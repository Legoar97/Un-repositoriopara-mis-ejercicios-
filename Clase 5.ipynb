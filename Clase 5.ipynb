{
 "cells": [
  {
   "cell_type": "markdown",
   "id": "abc6b6d7-534e-4ae5-8014-af8cfc76e703",
   "metadata": {},
   "source": [
    "# Clase 5\n",
    "\n",
    "**Primeros scripts**\n",
    "\n",
    "Vamos a definir en una celda tres variabes, una que contenga mi nombre, otra que contenga mi edad y otra que muestre el porcentaje de la semana que utilizo para mi curso de programación.\n"
   ]
  },
  {
   "cell_type": "code",
   "execution_count": 40,
   "id": "a48115e7-f80f-4344-ab53-d705b8efd57b",
   "metadata": {},
   "outputs": [],
   "source": [
    "Nombre='Iván Ramiro Pinzón'\n",
    "Edad=20\n",
    "por_pro=(4+2)/(24*5)"
   ]
  },
  {
   "cell_type": "markdown",
   "id": "a27edb26-29eb-4279-9d2b-fb1f57180781",
   "metadata": {},
   "source": [
    "## Método `format` para cadenas"
   ]
  },
  {
   "cell_type": "code",
   "execution_count": 41,
   "id": "11747989-a356-42c5-8e35-e3c6abec0beb",
   "metadata": {},
   "outputs": [
    {
     "data": {
      "text/plain": [
       "'Mi nombres es Iván Ramiro Pinzón, tengo 20 años y soy externadista'"
      ]
     },
     "execution_count": 41,
     "metadata": {},
     "output_type": "execute_result"
    }
   ],
   "source": [
    "texto1='Mi nombres es {}, tengo {} años y soy externadista'.format(Nombre,Edad)\n",
    "texto1"
   ]
  },
  {
   "cell_type": "code",
   "execution_count": 42,
   "id": "4a63750c-5bca-4e35-89d3-8a42dcbb73cb",
   "metadata": {},
   "outputs": [
    {
     "data": {
      "text/plain": [
       "'Mi nombres es Iván Ramiro Pinzón, tengo 20 años y soy externadista y dedico el 5% de mi semana a programación'"
      ]
     },
     "execution_count": 42,
     "metadata": {},
     "output_type": "execute_result"
    }
   ],
   "source": [
    "texto2='Mi nombres es {nombre}, tengo {edad} años y soy externadista y dedico el {porcentaje:.0%} de mi semana a programación'.format(\n",
    "    nombre=Nombre,\n",
    "    edad=Edad,\n",
    "    porcentaje=por_pro)\n",
    "texto2"
   ]
  },
  {
   "cell_type": "code",
   "execution_count": 43,
   "id": "3d1d670a-d32b-46af-b5ff-23eb3df118ce",
   "metadata": {},
   "outputs": [
    {
     "name": "stdout",
     "output_type": "stream",
     "text": [
      "Nombre:            Iván Ramiro Pinzón\n",
      "Edad:                            20\n"
     ]
    }
   ],
   "source": [
    "Texto3='Nombre:{nombre:>30}\\nEdad:{edad:>30}'.format(nombre=Nombre,edad=Edad)\n",
    "print(Texto3)"
   ]
  },
  {
   "cell_type": "code",
   "execution_count": 44,
   "id": "cbdccd41-a8dc-4d38-8a5d-1a2b886c3799",
   "metadata": {},
   "outputs": [
    {
     "name": "stdout",
     "output_type": "stream",
     "text": [
      "      Iván Ramiro Pinzón      \n",
      "              20              \n"
     ]
    }
   ],
   "source": [
    "Texto4='{nombre:^30}\\n{edad:^30}'.format(nombre=Nombre,edad=Edad)\n",
    "print(Texto4)"
   ]
  },
  {
   "cell_type": "code",
   "execution_count": 45,
   "id": "5a327d8e-e4b6-43b8-b287-d1fe92612594",
   "metadata": {},
   "outputs": [
    {
     "name": "stdout",
     "output_type": "stream",
     "text": [
      "El boleto para Bad Bunny valió $22,000,000\n"
     ]
    }
   ],
   "source": [
    "Texto5='El boleto para Bad Bunny valió ${boleto:,}'.format(boleto=22000000)\n",
    "print(Texto5)"
   ]
  },
  {
   "cell_type": "code",
   "execution_count": 46,
   "id": "f2fa68ea-d235-4f24-8216-1e001cfe7b33",
   "metadata": {},
   "outputs": [
    {
     "name": "stdout",
     "output_type": "stream",
     "text": [
      "En binario tengo 10100\n"
     ]
    }
   ],
   "source": [
    "Texto6='En binario tengo {edad:b}'.format(edad=Edad)\n",
    "print(Texto6)"
   ]
  },
  {
   "cell_type": "markdown",
   "id": "cf881280-8f1e-4895-86f2-393941f0d641",
   "metadata": {},
   "source": [
    "## Más métodos en cadenas de caractéres\n",
    "\n",
    "Veamos una lista de métodos e intentemos definir que hace cada una:"
   ]
  },
  {
   "cell_type": "code",
   "execution_count": 48,
   "id": "cb36d68c-f82e-44aa-a85c-aad04497b2b8",
   "metadata": {},
   "outputs": [
    {
     "name": "stdout",
     "output_type": "stream",
     "text": [
      "Hola\n"
     ]
    }
   ],
   "source": [
    "Texto7='hola'.capitalize() #Mayúscula inicial\n",
    "print(Texto7)"
   ]
  },
  {
   "cell_type": "code",
   "execution_count": 50,
   "id": "ea0a711d-075c-4d3d-a3f1-518b5221409b",
   "metadata": {},
   "outputs": [
    {
     "name": "stdout",
     "output_type": "stream",
     "text": [
      "en el monte de la china una chinita se perdió\n"
     ]
    }
   ],
   "source": [
    "Texto8='En el monte de la china una chinita sE pErDió'.casefold() #Todo minuscúla\n",
    "print(Texto8)"
   ]
  },
  {
   "cell_type": "code",
   "execution_count": 51,
   "id": "59f7403b-088b-43a8-9050-477a6ecdc48f",
   "metadata": {},
   "outputs": [
    {
     "name": "stdout",
     "output_type": "stream",
     "text": [
      "EN EL MONTE DE LA CHINA LA CHINITA SE PERDIÓ\n"
     ]
    }
   ],
   "source": [
    "Texto9='En el monte de la china la chinita se perdió'.upper() #Todo Mayúscula\n",
    "print(Texto9)"
   ]
  },
  {
   "cell_type": "code",
   "execution_count": 52,
   "id": "28c4a776-55fb-464a-b185-3cf47e1833b1",
   "metadata": {},
   "outputs": [
    {
     "name": "stdout",
     "output_type": "stream",
     "text": [
      "en el monte de la china la chinita se perdió\n"
     ]
    }
   ],
   "source": [
    "Texto10='En el monte de la china la chinita se perdió'.lower() #Todo Minuscúla\n",
    "print(Texto10)"
   ]
  },
  {
   "cell_type": "code",
   "execution_count": 54,
   "id": "8e193aa6-dff0-494d-be09-b9432e1a10b3",
   "metadata": {},
   "outputs": [
    {
     "name": "stdout",
     "output_type": "stream",
     "text": [
      "En el monte de lx-x chinx-x lx-x chinitx-x se perdió\n"
     ]
    }
   ],
   "source": [
    "Texto11='En el monte de la china la chinita se perdió'.replace('a','x-x') #Reemplaza caracteres por los que se asigne\n",
    "print(Texto11)"
   ]
  },
  {
   "cell_type": "code",
   "execution_count": 56,
   "id": "406861bb-71bd-47b0-b9a8-9f21c87372a5",
   "metadata": {},
   "outputs": [
    {
     "name": "stdout",
     "output_type": "stream",
     "text": [
      "eN EL MONTE DE LA CHINA LA CHINITA SE PERDIÓ\n"
     ]
    }
   ],
   "source": [
    "Texto12='En el monte de la china la chinita se perdió'.swapcase() #Invertir mayuscúlas y minuscúlas\n",
    "print(Texto12)"
   ]
  },
  {
   "cell_type": "code",
   "execution_count": 62,
   "id": "ae5ac778-e512-452a-b9b3-f46cf4fa78b1",
   "metadata": {},
   "outputs": [
    {
     "name": "stdout",
     "output_type": "stream",
     "text": [
      "                            En el monte de la china la chinita se perdió                            \n"
     ]
    }
   ],
   "source": [
    "Texto13='En el monte de la china la chinita se perdió'.center(100) #Centrar texto\n",
    "print(Texto13)"
   ]
  },
  {
   "cell_type": "markdown",
   "id": "0ba2444c-bf7f-401b-b748-275c2b2cff51",
   "metadata": {},
   "source": [
    "Otros métodos\n"
   ]
  },
  {
   "cell_type": "code",
   "execution_count": 64,
   "id": "96a2962d-e0c1-4894-a945-4031ee7a65e4",
   "metadata": {},
   "outputs": [
    {
     "name": "stdout",
     "output_type": "stream",
     "text": [
      "2\n"
     ]
    }
   ],
   "source": [
    "x1='Las bananas son ricas en potasio'.count('an') #Cuenta los carecteres según especificación\n",
    "print(x1)"
   ]
  },
  {
   "cell_type": "code",
   "execution_count": 69,
   "id": "33eda0a2-44f6-4c43-b7f6-bcbb39550157",
   "metadata": {},
   "outputs": [
    {
     "name": "stdout",
     "output_type": "stream",
     "text": [
      "16\n"
     ]
    }
   ],
   "source": [
    "x2='En el Externado soy muy feliz'.find('soy') #Cuenta desde que espacio comeinza la cadena\n",
    "print(x2)"
   ]
  },
  {
   "cell_type": "code",
   "execution_count": 70,
   "id": "039f5766-e694-42c7-a479-b48effa0825a",
   "metadata": {},
   "outputs": [
    {
     "name": "stdout",
     "output_type": "stream",
     "text": [
      "0\n"
     ]
    }
   ],
   "source": [
    "x3='En el Externado soy muy feliz'.find('En')\n",
    "print(x3)"
   ]
  },
  {
   "cell_type": "code",
   "execution_count": 71,
   "id": "53277746-39ab-4cd1-831c-dfdf12b883b9",
   "metadata": {},
   "outputs": [
    {
     "name": "stdout",
     "output_type": "stream",
     "text": [
      "3\n"
     ]
    }
   ],
   "source": [
    "x4='En el Externado soy muy feliz'.find('el')\n",
    "print(x4)"
   ]
  },
  {
   "cell_type": "markdown",
   "id": "ac0ac34a-fa6e-477c-8a83-b286188ef546",
   "metadata": {},
   "source": [
    "En Python los textos son arreglos, o más bien secuencias ordenadas de caracteres. Cada texto tiene un orden según la aparición de cada caracter.\n"
   ]
  },
  {
   "cell_type": "code",
   "execution_count": 76,
   "id": "4ca6f2c2-e18a-45b9-9a6f-ed9f1063291c",
   "metadata": {},
   "outputs": [],
   "source": [
    "texto_normal='0123456789'"
   ]
  },
  {
   "cell_type": "code",
   "execution_count": 77,
   "id": "37f7d83f-ebd5-4f81-99eb-2e52c1714a93",
   "metadata": {},
   "outputs": [
    {
     "data": {
      "text/plain": [
       "'0'"
      ]
     },
     "execution_count": 77,
     "metadata": {},
     "output_type": "execute_result"
    }
   ],
   "source": [
    "texto_normal[0] #Identifica a cada caracter en esa lista o arreglo con paréntesis cuadrados"
   ]
  },
  {
   "cell_type": "code",
   "execution_count": 78,
   "id": "f1b67c73-6373-4210-a340-7d19b1075ad6",
   "metadata": {},
   "outputs": [
    {
     "data": {
      "text/plain": [
       "'0123'"
      ]
     },
     "execution_count": 78,
     "metadata": {},
     "output_type": "execute_result"
    }
   ],
   "source": [
    "texto_normal[0:4] #Los dos valores separados por puntos indican un rango en el texto, inicia en el primero y termina uno antes que el segundo"
   ]
  },
  {
   "cell_type": "code",
   "execution_count": 79,
   "id": "11b726b6-4112-4d06-b463-43e8afc88573",
   "metadata": {},
   "outputs": [],
   "source": [
    "texto='Colombia verá Qatar 2022 desde la sala de la casa'"
   ]
  },
  {
   "cell_type": "code",
   "execution_count": 80,
   "id": "01b4b356-010e-47e2-8ba0-c2b0814db7dd",
   "metadata": {},
   "outputs": [
    {
     "data": {
      "text/plain": [
       "'bia verá Qatar '"
      ]
     },
     "execution_count": 80,
     "metadata": {},
     "output_type": "execute_result"
    }
   ],
   "source": [
    "texto[5:20]"
   ]
  },
  {
   "cell_type": "markdown",
   "id": "724b7d75-6877-42b8-8d30-6f08bbb65ab3",
   "metadata": {},
   "source": [
    "## Función input"
   ]
  },
  {
   "cell_type": "code",
   "execution_count": 84,
   "id": "635c4f14-0411-4608-bf7f-d0591e8c9a90",
   "metadata": {},
   "outputs": [
    {
     "name": "stdin",
     "output_type": "stream",
     "text": [
      "Escriba un texto aquí:  4\n"
     ]
    },
    {
     "name": "stdout",
     "output_type": "stream",
     "text": [
      "4\n",
      "<class 'str'>\n"
     ]
    }
   ],
   "source": [
    "txt=input('Escriba un texto aquí: ')\n",
    "print(txt)\n",
    "print(type(txt))"
   ]
  },
  {
   "cell_type": "markdown",
   "id": "f4ca3cb2-60c0-43b0-8535-d2204cd78a2b",
   "metadata": {},
   "source": [
    "Claramente input permite que el usuario pueda ingresar textto, ese texto siempre se guardará como cadena de caractéres y si se quiere cambiar debe utilizarse una función adecuada\n"
   ]
  },
  {
   "cell_type": "code",
   "execution_count": 86,
   "id": "86b967a0-11cd-4747-aa0c-1113cb48c44e",
   "metadata": {},
   "outputs": [
    {
     "name": "stdin",
     "output_type": "stream",
     "text": [
      "Ingrese su nombre:  Iván\n",
      "Ingrese su edad:  15\n"
     ]
    },
    {
     "name": "stdout",
     "output_type": "stream",
     "text": [
      "En el 2023 Iván, tendrá 16 años\n"
     ]
    }
   ],
   "source": [
    "txt=input('Ingrese su nombre: ')\n",
    "age=input('Ingrese su edad: ')\n",
    "age=int(age)\n",
    "print('En el 2023 {nombre}, tendrá {edad} años'.format(nombre=txt,edad=age+1))"
   ]
  },
  {
   "cell_type": "markdown",
   "id": "c2a9cb89-d87a-47d0-b01f-61837d17b2ad",
   "metadata": {},
   "source": [
    "Carta para nosotros mismos\n",
    "\n",
    "input nombre\n",
    "input edad\n",
    "\n"
   ]
  }
 ],
 "metadata": {
  "kernelspec": {
   "display_name": "Python 3 (ipykernel)",
   "language": "python",
   "name": "python3"
  },
  "language_info": {
   "codemirror_mode": {
    "name": "ipython",
    "version": 3
   },
   "file_extension": ".py",
   "mimetype": "text/x-python",
   "name": "python",
   "nbconvert_exporter": "python",
   "pygments_lexer": "ipython3",
   "version": "3.9.7"
  }
 },
 "nbformat": 4,
 "nbformat_minor": 5
}
