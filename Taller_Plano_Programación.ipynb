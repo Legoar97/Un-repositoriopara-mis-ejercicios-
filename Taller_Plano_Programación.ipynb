{
 "cells": [
  {
   "cell_type": "code",
   "execution_count": 13,
   "id": "a64fe269-eea2-454f-89eb-28dcc9007dc8",
   "metadata": {},
   "outputs": [
    {
     "name": "stdout",
     "output_type": "stream",
     "text": [
      "(0, 0)\n",
      "(1, 0)\n",
      "(2, 0)\n",
      "(3, 0)\n",
      "(4, 0)\n",
      "(4, 1)\n",
      "(3, 1)\n",
      "(2, 1)\n",
      "(1, 1)\n",
      "(0, 1)\n",
      "(0, 2)\n",
      "(1, 2)\n",
      "(2, 2)\n",
      "(3, 2)\n",
      "(4, 2)\n",
      "(4, 3)\n",
      "(3, 3)\n",
      "(2, 3)\n",
      "(1, 3)\n",
      "(0, 3)\n",
      "(0, 4)\n",
      "(1, 4)\n",
      "(2, 4)\n",
      "(3, 4)\n",
      "(4, 4)\n"
     ]
    }
   ],
   "source": [
    "#Ejercicio 3\n",
    "\n",
    "def recorrer_plano(x):\n",
    "    for i in range(0,x+1):\n",
    "        if i%2==0:\n",
    "            for j in range(0,x+1):\n",
    "                print((j,i))\n",
    "        else:\n",
    "            for k in reversed(range(0,x+1)):\n",
    "                print((k,i))\n",
    "                          \n",
    "                          \n",
    "recorrer_plano(4)"
   ]
  },
  {
   "cell_type": "code",
   "execution_count": 14,
   "id": "b02811b6-111e-4fac-8a06-ca0ec9df1b20",
   "metadata": {},
   "outputs": [
    {
     "name": "stdout",
     "output_type": "stream",
     "text": [
      "(0, 0)\n",
      "(0, 1)\n",
      "(0, 2)\n",
      "(0, 3)\n",
      "(0, 4)\n",
      "(1, 4)\n",
      "(1, 3)\n",
      "(1, 2)\n",
      "(1, 1)\n",
      "(1, 0)\n",
      "(2, 0)\n",
      "(2, 1)\n",
      "(2, 2)\n",
      "(2, 3)\n",
      "(2, 4)\n",
      "(3, 4)\n",
      "(3, 3)\n",
      "(3, 2)\n",
      "(3, 1)\n",
      "(3, 0)\n",
      "(4, 0)\n",
      "(4, 1)\n",
      "(4, 2)\n",
      "(4, 3)\n",
      "(4, 4)\n"
     ]
    }
   ],
   "source": [
    "#Ejercicio 2\n",
    "\n",
    "def recorrer_plano(y):\n",
    "    for i in range(0,y+1):\n",
    "        if i%2==0:\n",
    "            for j in range(0,y+1):\n",
    "                print((i,j))\n",
    "        else:\n",
    "            for k in reversed(range(0,y+1)):\n",
    "                print((i,k))\n",
    "recorrer_plano(4)"
   ]
  },
  {
   "cell_type": "code",
   "execution_count": 11,
   "id": "5d34149f-86e3-4656-b533-07fb54c20ca3",
   "metadata": {},
   "outputs": [
    {
     "name": "stdout",
     "output_type": "stream",
     "text": [
      "(2, 2)\n",
      "(2, 3)\n",
      "(3, 3)\n",
      "(3, 2)\n",
      "(3, 1)\n",
      "(2, 1)\n",
      "(1, 1)\n",
      "(1, 2)\n",
      "(1, 3)\n",
      "(1, 4)\n",
      "(2, 4)\n",
      "(3, 4)\n",
      "(4, 0)\n",
      "(4, 1)\n",
      "(4, 2)\n",
      "(4, 3)\n",
      "(4, 4)\n",
      "(3, 0)\n",
      "(2, 0)\n",
      "(1, 0)\n",
      "(0, 0)\n",
      "(0, 1)\n",
      "(0, 2)\n",
      "(0, 3)\n",
      "(0, 4)\n"
     ]
    }
   ],
   "source": [
    "#Ejercicio 3\n",
    "\n",
    "x = 2\n",
    "for j in range(x,x+2):\n",
    "    print((x,j))\n",
    "y=3\n",
    "for j in reversed(range(x-1,x+2)):\n",
    "    print((y,j))\n",
    "x= 2\n",
    "for j in range(x-1,x):\n",
    "    print((x,j))\n",
    "x = 1\n",
    "for j in range(x,5):\n",
    "    print((x,j))\n",
    "x = 4\n",
    "for j in range(x-2,x):\n",
    "    print((j,x))\n",
    "x = 4\n",
    "for j in range(0,x+1):\n",
    "    print((x,j))\n",
    "x = 4\n",
    "for j in reversed(range(x-3,x)):\n",
    "    print((j,0))\n",
    "x = 4\n",
    "for j in range(0,x+1):\n",
    "    print((0,j))"
   ]
  },
  {
   "cell_type": "code",
   "execution_count": null,
   "id": "884c7dfe",
   "metadata": {},
   "outputs": [],
   "source": []
  }
 ],
 "metadata": {
  "kernelspec": {
   "display_name": "Python 3 (ipykernel)",
   "language": "python",
   "name": "python3"
  },
  "language_info": {
   "codemirror_mode": {
    "name": "ipython",
    "version": 3
   },
   "file_extension": ".py",
   "mimetype": "text/x-python",
   "name": "python",
   "nbconvert_exporter": "python",
   "pygments_lexer": "ipython3",
   "version": "3.9.7"
  }
 },
 "nbformat": 4,
 "nbformat_minor": 5
}
