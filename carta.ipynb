{
 "cells": [
  {
   "cell_type": "code",
   "execution_count": 21,
   "id": "3bf58165-efa0-4b6f-b47d-b4dd7a9e4c01",
   "metadata": {},
   "outputs": [],
   "source": [
    "from datetime import date\n",
    "from datetime import datetime\n",
    "from datetime import timedelta\n",
    "import time"
   ]
  },
  {
   "cell_type": "code",
   "execution_count": 31,
   "id": "5aa65bdf-f806-4dfb-af7b-305b8367c042",
   "metadata": {},
   "outputs": [
    {
     "name": "stdin",
     "output_type": "stream",
     "text": [
      "Por favor ingrese su nombre completo:  sdfghjk fgh fgh dfg\n",
      "Por favor ingrese su primer nombre:  sdfg\n",
      "Por favor ingrese su edad:  25\n"
     ]
    },
    {
     "name": "stdout",
     "output_type": "stream",
     "text": [
      "\n",
      "\n",
      "\n",
      "Bogotá, 2022-02-10\n",
      "\n",
      "\n",
      "Estimado:\n",
      "sdfghjk fgh fgh dfg\n",
      "Estudiante Ciencias de Datos\n",
      "Universidad Externado\n",
      "Bogotá\n",
      "\n",
      "\n",
      "\n",
      "Hola sdfg, te escribí esto cuando tenía 25 años, si todo ha salido bien hoy que estás leyendo esto debería ser 2023-02-10. \n",
      "Espero que la vida te esté tratando mejor que ahora cuando escribo estas palabras. \n",
      "Confio en que sigues en la universidad y que la estás rompiendo como de costumbre.\n",
      "\n",
      "Si las cosas no van bien, no te preocupes, ya has estado en situaciones similares antes y has logrado \n",
      "salir de ellas, pero si te sientes abrumado, cansado y desesperado, a continuación te dejo un fragmento \n",
      "de tus poemas favoritos, encuentra nuevamente el camino, como lo has hecho tantas veces:\n",
      "\n",
      "\n",
      "Shhh… A veces el jugador leía líneas de código en una pantalla. Las decodificaba en palabras; decodificaba las palabras en significados; decodificaba significados en sentimientos, emociones, teorías, ideas, y el jugador empezaba a respirar más rápido y más profundo y se daba cuenta que estaba vivo, estaba vivo, esas miles de muertes no eran reales, el jugador estaba vivo.\n",
      "Tú. Tú. Tú estás vivo.\n",
      "Y a veces el jugador creía que el universo le habló a través de la luz del sol que vino a través de las revoloteantes hojas de los árboles de verano.\n",
      "Y a veces el jugador creía que el universo le habló a través de la luz que sintió del fresco cielo nocturno del invierno, \n",
      "donde una mota de luz en el rabillo del ojo del jugador pudo ser una estrella un millón de veces más masiva que el sol, \n",
      "hirviendo sus planetas hasta hacerlos plasma para ser visible para el jugador por un momento, caminando hacia casa en un rincón alejado del universo, \n",
      "de repente oliendo comida, casi delante de su familiar puerta, a punto de soñar otra vez.\n",
      "Y a veces el jugador creía que el universo le habló a través de ceros y unos, a través de la electricidad del mundo, \n",
      "a través de las palabras que se desplazan por una pantalla al final de un sueño.\n",
      "\n",
      "Y el universo dijo Te amo.\n",
      "Y el universo dijo que jugaste bien al juego.\n",
      "Y el universo dijo que lo único que necesitas está en ti.\n",
      "Y el universo dijo que tú eres más fuerte de lo que sabes.\n",
      "Y el universo dijo que tú eres la luz del sol.\n",
      "Y el universo dijo que tú eres la noche.\n",
      "Y el universo dijo que la oscuridad con la que luchas está en ti.\n",
      "Y el universo dijo que la luz que buscas está en ti.\n",
      "Y el universo dijo que tú no estás solo.\n",
      "Y el universo dijo que no estás separado de todas las demás cosas.\n",
      "Y el universo dijo que tú eres el universo probándose a sí mismo, hablándose a sí mismo, leyendo su propio código.\n",
      "Y el universo dijo Te amo, porque tú eres el amor.\n",
      "Y el juego se terminó, y el jugador despertó del sueño. Y el jugador empezó un nuevo sueño. Y el jugador soñó otra vez, soñó mejor. Y el jugador fue el universo. Y el jugador fue el amor.\n",
      "Tú eres el jugador.\n",
      "\n",
      "Despierta.\n",
      "\n",
      "\n",
      "\n",
      "                                                                                      Con cariño tu yo del pasado,                                                                                      \n",
      "                                                                                          sdfghjk fgh fgh dfg                                                                                           \n"
     ]
    }
   ],
   "source": [
    "#Carta a mi yo del futuro\n",
    "\n",
    "txt= input('Por favor ingrese su nombre completo: ')\n",
    "txt2=input('Por favor ingrese su primer nombre: ')\n",
    "age= input('Por favor ingrese su edad: ')\n",
    "age=int(age)\n",
    "fecha = date.today()\n",
    "nueva_fecha= fecha+timedelta(days=365)\n",
    "encabezado= ('Bogotá, {fechas}'.format(fechas=fecha))\n",
    "\n",
    "info=('''Estimado:\n",
    "{nombre}\n",
    "Estudiante Ciencias de Datos\n",
    "Universidad Externado\n",
    "Bogotá'''.format(nombre=txt))\n",
    "\n",
    "saludo=('''Hola {name}, te escribí esto cuando tenía {edad} años, si todo ha salido bien hoy que estás leyendo esto debería ser {futuro}. \n",
    "Espero que la vida te esté tratando mejor que ahora cuando escribo estas palabras. \n",
    "Confio en que sigues en la universidad y que la estás rompiendo como de costumbre.'''.format(name=txt2,edad=age, futuro=nueva_fecha))\n",
    "\n",
    "mensaje=('''Si las cosas no van bien, no te preocupes, ya has estado en situaciones similares antes y has logrado salir de ellas, pero si te sientes abrumado, cansado y desesperado, a continuación te dejo un fragmento de tus poemas favoritos, encuentra nuevamente el camino, como lo has hecho tantas veces:''')\n",
    "\n",
    "fragmento=('''Shhh… A veces el jugador leía líneas de código en una pantalla. Las decodificaba en palabras; decodificaba las palabras en significados; decodificaba significados en sentimientos, emociones, teorías, ideas, y el jugador empezaba a respirar más rápido y más profundo y se daba cuenta que estaba vivo, estaba vivo, esas miles de muertes no eran reales, el jugador estaba vivo.\n",
    "Tú. Tú. Tú estás vivo.\n",
    "Y a veces el jugador creía que el universo le habló a través de la luz del sol que vino a través de las revoloteantes hojas de los árboles de verano.\n",
    "Y a veces el jugador creía que el universo le habló a través de la luz que sintió del fresco cielo nocturno del invierno, \n",
    "donde una mota de luz en el rabillo del ojo del jugador pudo ser una estrella un millón de veces más masiva que el sol, \n",
    "hirviendo sus planetas hasta hacerlos plasma para ser visible para el jugador por un momento, caminando hacia casa en un rincón alejado del universo, \n",
    "de repente oliendo comida, casi delante de su familiar puerta, a punto de soñar otra vez.\n",
    "Y a veces el jugador creía que el universo le habló a través de ceros y unos, a través de la electricidad del mundo, \n",
    "a través de las palabras que se desplazan por una pantalla al final de un sueño.\n",
    "\n",
    "Y el universo dijo Te amo.\n",
    "Y el universo dijo que jugaste bien al juego.\n",
    "Y el universo dijo que lo único que necesitas está en ti.\n",
    "Y el universo dijo que tú eres más fuerte de lo que sabes.\n",
    "Y el universo dijo que tú eres la luz del sol.\n",
    "Y el universo dijo que tú eres la noche.\n",
    "Y el universo dijo que la oscuridad con la que luchas está en ti.\n",
    "Y el universo dijo que la luz que buscas está en ti.\n",
    "Y el universo dijo que tú no estás solo.\n",
    "Y el universo dijo que no estás separado de todas las demás cosas.\n",
    "Y el universo dijo que tú eres el universo probándose a sí mismo, hablándose a sí mismo, leyendo su propio código.\n",
    "Y el universo dijo Te amo, porque tú eres el amor.\n",
    "Y el juego se terminó, y el jugador despertó del sueño. Y el jugador empezó un nuevo sueño. Y el jugador soñó otra vez, soñó mejor. Y el jugador fue el universo. Y el jugador fue el amor.\n",
    "Tú eres el jugador.\n",
    "\n",
    "Despierta.''')\n",
    "\n",
    "\n",
    "despedida=('''Con cariño tu yo del pasado,''')\n",
    "texto4='{despedida:^200}\\n{nombre:^200}'.format(despedida=despedida, nombre=txt)\n",
    "print()\n",
    "print()\n",
    "print()\n",
    "print(encabezado)\n",
    "print()\n",
    "print()\n",
    "print(info)\n",
    "print()\n",
    "print()\n",
    "print()\n",
    "print(saludo)\n",
    "print()\n",
    "print(mensaje[0:102])\n",
    "print(mensaje[102:206])\n",
    "print(mensaje[206:303])\n",
    "print()\n",
    "print()\n",
    "print(fragmento)\n",
    "print()\n",
    "print()\n",
    "print()\n",
    "print(texto4)\n",
    "           "
   ]
  },
  {
   "cell_type": "code",
   "execution_count": 30,
   "id": "e9d29bec-ca9a-4fe4-8474-b839780704a0",
   "metadata": {},
   "outputs": [
    {
     "name": "stdout",
     "output_type": "stream",
     "text": [
      "                         Hola Jugador, Bienvenido A Este Maravilloso Juego                          \n",
      "\n",
      "Para jugar solo debes pensar un número\n",
      "Ya lo pensaste ¿verdad?\n",
      "Ahora sí viene lo chido, súmale cinco a ese número\n",
      "Fácil ¿no?, ahora multiplica el resultado por dos\n",
      "Sé que las matemáticas no se te dan muy bien, tomate tu tiempo\n",
      "Perfecto, ahora a lo que quedó réstale cuatro\n",
      "Un poco difícil para ti, continuemos\n",
      "Ahora el resultado divídelo entre dos\n"
     ]
    },
    {
     "name": "stdin",
     "output_type": "stream",
     "text": [
      "Escribe el resultado que llevas actualmente:  6\n"
     ]
    },
    {
     "name": "stdout",
     "output_type": "stream",
     "text": [
      "Y finalmete réstale el número que pensaste inicialmente\n",
      "El resultado es... redoble de tambores\n",
      "¡TRES!\n",
      "\n"
     ]
    },
    {
     "name": "stdin",
     "output_type": "stream",
     "text": [
      "¿No crees que soy increíble?:  :O\n"
     ]
    },
    {
     "data": {
      "text/plain": [
       "':O'"
      ]
     },
     "execution_count": 30,
     "metadata": {},
     "output_type": "execute_result"
    }
   ],
   "source": [
    "#Juego de números\n",
    "\n",
    "texto1='Hola jugador, bienvenido a este maravilloso juego'.title().center(100)\n",
    "texto2='Para jugar solo debes pensar un número'\n",
    "texto3='Ya lo pensaste ¿verdad?'\n",
    "texto4='Ahora sí viene lo chido, súmale cinco a ese número'\n",
    "texto5='Fácil ¿no?, ahora multiplica el resultado por dos'\n",
    "texto6='Sé que las matemáticas no se te dan muy bien, tomate tu tiempo'\n",
    "texto7='Perfecto, ahora a lo que quedó réstale cuatro'\n",
    "texto8='Un poco difícil para ti, continuemos'\n",
    "texto9='Ahora el resultado divídelo entre dos'\n",
    "texto10='Y finalmete réstale el número que pensaste inicialmente'\n",
    "texto11='El resultado es... redoble de tambores'\n",
    "texto12='¡TRES!'\n",
    "\n",
    "print(texto1)\n",
    "print()\n",
    "time.sleep(3)\n",
    "print(texto2)\n",
    "time.sleep(4)\n",
    "print(texto3)\n",
    "time.sleep(5)\n",
    "print(texto4)\n",
    "time.sleep(6)\n",
    "print(texto5)\n",
    "time.sleep(7)\n",
    "print(texto6)\n",
    "time.sleep(4)\n",
    "print(texto7)\n",
    "time.sleep(3)\n",
    "print(texto8)\n",
    "time.sleep(5)\n",
    "print(texto9)\n",
    "time.sleep(4)\n",
    "input('Escribe el resultado que llevas actualmente: ')\n",
    "time.sleep(1)\n",
    "print(texto10)\n",
    "time.sleep(3)\n",
    "print(texto11)\n",
    "time.sleep(5)\n",
    "print(texto12)\n",
    "print()\n",
    "time.sleep(3)\n",
    "input('¿No crees que soy increíble?: ')"
   ]
  }
 ],
 "metadata": {
  "kernelspec": {
   "display_name": "Python 3 (ipykernel)",
   "language": "python",
   "name": "python3"
  },
  "language_info": {
   "codemirror_mode": {
    "name": "ipython",
    "version": 3
   },
   "file_extension": ".py",
   "mimetype": "text/x-python",
   "name": "python",
   "nbconvert_exporter": "python",
   "pygments_lexer": "ipython3",
   "version": "3.9.7"
  }
 },
 "nbformat": 4,
 "nbformat_minor": 5
}
